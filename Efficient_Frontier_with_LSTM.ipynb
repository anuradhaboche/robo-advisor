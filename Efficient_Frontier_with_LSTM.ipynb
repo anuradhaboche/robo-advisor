{
  "nbformat": 4,
  "nbformat_minor": 0,
  "metadata": {
    "colab": {
      "name": "Efficient_Frontier_with_LSTM.ipynb",
      "provenance": [],
      "collapsed_sections": [],
      "mount_file_id": "10vG0ZAtDylQed9NuEJHfRizZrCQoYF8s",
      "authorship_tag": "ABX9TyOw4Hgz+8DXE5kiWatSZECO",
      "include_colab_link": true
    },
    "kernelspec": {
      "name": "python3",
      "display_name": "Python 3"
    }
  },
  "cells": [
    {
      "cell_type": "markdown",
      "metadata": {
        "id": "view-in-github",
        "colab_type": "text"
      },
      "source": [
        "<a href=\"https://colab.research.google.com/github/anuradhaboche/robo-advisor/blob/master/Efficient_Frontier_with_LSTM.ipynb\" target=\"_parent\"><img src=\"https://colab.research.google.com/assets/colab-badge.svg\" alt=\"Open In Colab\"/></a>"
      ]
    },
    {
      "cell_type": "markdown",
      "metadata": {
        "id": "HLEgNSOzDNph",
        "colab_type": "text"
      },
      "source": [
        "**Import** **Libraries**"
      ]
    },
    {
      "cell_type": "code",
      "metadata": {
        "id": "6V4Nv-CpLdcW",
        "colab_type": "code",
        "colab": {}
      },
      "source": [
        "import numpy as np\n",
        "import sqlite3\n",
        "import pandas as pd\n",
        "from sklearn.preprocessing import MinMaxScaler\n",
        "from keras.models import Sequential\n",
        "from keras.layers import Dense, Dropout, LSTM\n",
        "import math\n",
        "from sklearn.metrics import mean_squared_error\n",
        "from tensorflow.keras.preprocessing.sequence import TimeseriesGenerator"
      ],
      "execution_count": 49,
      "outputs": []
    },
    {
      "cell_type": "markdown",
      "metadata": {
        "id": "aqZYZ0T9DXF_",
        "colab_type": "text"
      },
      "source": [
        "**Fetch Data from Database/API**\n",
        "- Set Date as index\n",
        "- Sort data as per index values"
      ]
    },
    {
      "cell_type": "code",
      "metadata": {
        "id": "DLK5DjEnLoaF",
        "colab_type": "code",
        "colab": {
          "base_uri": "https://localhost:8080/",
          "height": 450
        },
        "outputId": "1ad464e7-85ee-479b-8918-123c9d690978"
      },
      "source": [
        "connection = sqlite3.connect('/content/drive/My Drive/portfolio_db.db')\n",
        "cursor=connection.execute('Select distinct date, \"adj close\", ticker from stocks_data where Ticker in (\\'MMM\\',\\'AXP\\',\\'AAPL\\',\\'BA\\',\\'CAT\\',\\'CVX\\',\\'CSCO\\',\\'KO\\',\\'DOW\\',\\'XOM\\',\\'GS\\',\\'HD\\',\\'IBM\\',\\'INTC\\',\\'JNJ\\',\\'JPM\\',\\'MCD\\',\\'MRK\\',\\'MSFT\\',\\'NKE\\',\\'PFE\\',\\'PG\\',\\'RTX\\',\\'TRV\\',\\'UNH\\',\\'VZ\\',\\'V\\',\\'WMT\\',\\'WBA\\',\\'DIS\\') and date between \\'2010-01-01\\' and \\'2020-01-01\\' order by ticker')\n",
        "dow_data= pd.DataFrame(cursor.fetchall())\n",
        "dow_data.columns=[x[0] for x in cursor.description]\n",
        "# master_stocks_data['Date'] = pd.to_datetime(master_stocks_data.Date,format='%Y-%m-%d')\n",
        "dow_data.set_index('Date', drop=True, inplace=True)\n",
        "dow_data.sort_index(inplace=True)\n",
        "dow_data"
      ],
      "execution_count": 148,
      "outputs": [
        {
          "output_type": "execute_result",
          "data": {
            "text/html": [
              "<div>\n",
              "<style scoped>\n",
              "    .dataframe tbody tr th:only-of-type {\n",
              "        vertical-align: middle;\n",
              "    }\n",
              "\n",
              "    .dataframe tbody tr th {\n",
              "        vertical-align: top;\n",
              "    }\n",
              "\n",
              "    .dataframe thead th {\n",
              "        text-align: right;\n",
              "    }\n",
              "</style>\n",
              "<table border=\"1\" class=\"dataframe\">\n",
              "  <thead>\n",
              "    <tr style=\"text-align: right;\">\n",
              "      <th></th>\n",
              "      <th>Adj Close</th>\n",
              "      <th>Ticker</th>\n",
              "    </tr>\n",
              "    <tr>\n",
              "      <th>Date</th>\n",
              "      <th></th>\n",
              "      <th></th>\n",
              "    </tr>\n",
              "  </thead>\n",
              "  <tbody>\n",
              "    <tr>\n",
              "      <th>2010-01-04 00:00:00</th>\n",
              "      <td>26.466835</td>\n",
              "      <td>AAPL</td>\n",
              "    </tr>\n",
              "    <tr>\n",
              "      <th>2010-01-04 00:00:00</th>\n",
              "      <td>53.047504</td>\n",
              "      <td>CVX</td>\n",
              "    </tr>\n",
              "    <tr>\n",
              "      <th>2010-01-04 00:00:00</th>\n",
              "      <td>42.953705</td>\n",
              "      <td>CAT</td>\n",
              "    </tr>\n",
              "    <tr>\n",
              "      <th>2010-01-04 00:00:00</th>\n",
              "      <td>27.933924</td>\n",
              "      <td>DIS</td>\n",
              "    </tr>\n",
              "    <tr>\n",
              "      <th>2010-01-04 00:00:00</th>\n",
              "      <td>38.454769</td>\n",
              "      <td>TRV</td>\n",
              "    </tr>\n",
              "    <tr>\n",
              "      <th>...</th>\n",
              "      <td>...</td>\n",
              "      <td>...</td>\n",
              "    </tr>\n",
              "    <tr>\n",
              "      <th>2019-12-30 00:00:00</th>\n",
              "      <td>118.353401</td>\n",
              "      <td>WMT</td>\n",
              "    </tr>\n",
              "    <tr>\n",
              "      <th>2019-12-30 00:00:00</th>\n",
              "      <td>52.516708</td>\n",
              "      <td>DOW</td>\n",
              "    </tr>\n",
              "    <tr>\n",
              "      <th>2019-12-30 00:00:00</th>\n",
              "      <td>38.136490</td>\n",
              "      <td>PFE</td>\n",
              "    </tr>\n",
              "    <tr>\n",
              "      <th>2019-12-30 00:00:00</th>\n",
              "      <td>100.270981</td>\n",
              "      <td>NKE</td>\n",
              "    </tr>\n",
              "    <tr>\n",
              "      <th>2019-12-30 00:00:00</th>\n",
              "      <td>67.193794</td>\n",
              "      <td>XOM</td>\n",
              "    </tr>\n",
              "  </tbody>\n",
              "</table>\n",
              "<p>73134 rows × 2 columns</p>\n",
              "</div>"
            ],
            "text/plain": [
              "                      Adj Close Ticker\n",
              "Date                                  \n",
              "2010-01-04 00:00:00   26.466835   AAPL\n",
              "2010-01-04 00:00:00   53.047504    CVX\n",
              "2010-01-04 00:00:00   42.953705    CAT\n",
              "2010-01-04 00:00:00   27.933924    DIS\n",
              "2010-01-04 00:00:00   38.454769    TRV\n",
              "...                         ...    ...\n",
              "2019-12-30 00:00:00  118.353401    WMT\n",
              "2019-12-30 00:00:00   52.516708    DOW\n",
              "2019-12-30 00:00:00   38.136490    PFE\n",
              "2019-12-30 00:00:00  100.270981    NKE\n",
              "2019-12-30 00:00:00   67.193794    XOM\n",
              "\n",
              "[73134 rows x 2 columns]"
            ]
          },
          "metadata": {
            "tags": []
          },
          "execution_count": 148
        }
      ]
    },
    {
      "cell_type": "markdown",
      "metadata": {
        "id": "AD4y2ds5DqiH",
        "colab_type": "text"
      },
      "source": [
        "**Generate index values for Year 2019**"
      ]
    },
    {
      "cell_type": "code",
      "metadata": {
        "id": "eifJvFXnhakQ",
        "colab_type": "code",
        "colab": {
          "base_uri": "https://localhost:8080/",
          "height": 450
        },
        "outputId": "cf373fe2-889d-445b-fcc6-c6a656464a59"
      },
      "source": [
        "df= dow_data[dow_data['Ticker']=='CSCO']\n",
        "pred_dates=df.loc['2019-01-01': '2020-01-01'].index"
      ],
      "execution_count": 126,
      "outputs": [
        {
          "output_type": "execute_result",
          "data": {
            "text/html": [
              "<div>\n",
              "<style scoped>\n",
              "    .dataframe tbody tr th:only-of-type {\n",
              "        vertical-align: middle;\n",
              "    }\n",
              "\n",
              "    .dataframe tbody tr th {\n",
              "        vertical-align: top;\n",
              "    }\n",
              "\n",
              "    .dataframe thead th {\n",
              "        text-align: right;\n",
              "    }\n",
              "</style>\n",
              "<table border=\"1\" class=\"dataframe\">\n",
              "  <thead>\n",
              "    <tr style=\"text-align: right;\">\n",
              "      <th></th>\n",
              "      <th>Adj Close</th>\n",
              "      <th>Ticker</th>\n",
              "    </tr>\n",
              "    <tr>\n",
              "      <th>Date</th>\n",
              "      <th></th>\n",
              "      <th></th>\n",
              "    </tr>\n",
              "  </thead>\n",
              "  <tbody>\n",
              "    <tr>\n",
              "      <th>2010-01-04 00:00:00</th>\n",
              "      <td>18.785395</td>\n",
              "      <td>CSCO</td>\n",
              "    </tr>\n",
              "    <tr>\n",
              "      <th>2010-01-05 00:00:00</th>\n",
              "      <td>18.701702</td>\n",
              "      <td>CSCO</td>\n",
              "    </tr>\n",
              "    <tr>\n",
              "      <th>2010-01-06 00:00:00</th>\n",
              "      <td>18.579962</td>\n",
              "      <td>CSCO</td>\n",
              "    </tr>\n",
              "    <tr>\n",
              "      <th>2010-01-07 00:00:00</th>\n",
              "      <td>18.663656</td>\n",
              "      <td>CSCO</td>\n",
              "    </tr>\n",
              "    <tr>\n",
              "      <th>2010-01-08 00:00:00</th>\n",
              "      <td>18.762569</td>\n",
              "      <td>CSCO</td>\n",
              "    </tr>\n",
              "    <tr>\n",
              "      <th>...</th>\n",
              "      <td>...</td>\n",
              "      <td>...</td>\n",
              "    </tr>\n",
              "    <tr>\n",
              "      <th>2019-12-23 00:00:00</th>\n",
              "      <td>46.930817</td>\n",
              "      <td>CSCO</td>\n",
              "    </tr>\n",
              "    <tr>\n",
              "      <th>2019-12-24 00:00:00</th>\n",
              "      <td>46.618591</td>\n",
              "      <td>CSCO</td>\n",
              "    </tr>\n",
              "    <tr>\n",
              "      <th>2019-12-26 00:00:00</th>\n",
              "      <td>46.686893</td>\n",
              "      <td>CSCO</td>\n",
              "    </tr>\n",
              "    <tr>\n",
              "      <th>2019-12-27 00:00:00</th>\n",
              "      <td>46.608841</td>\n",
              "      <td>CSCO</td>\n",
              "    </tr>\n",
              "    <tr>\n",
              "      <th>2019-12-30 00:00:00</th>\n",
              "      <td>46.433212</td>\n",
              "      <td>CSCO</td>\n",
              "    </tr>\n",
              "  </tbody>\n",
              "</table>\n",
              "<p>2515 rows × 2 columns</p>\n",
              "</div>"
            ],
            "text/plain": [
              "                     Adj Close Ticker\n",
              "Date                                 \n",
              "2010-01-04 00:00:00  18.785395   CSCO\n",
              "2010-01-05 00:00:00  18.701702   CSCO\n",
              "2010-01-06 00:00:00  18.579962   CSCO\n",
              "2010-01-07 00:00:00  18.663656   CSCO\n",
              "2010-01-08 00:00:00  18.762569   CSCO\n",
              "...                        ...    ...\n",
              "2019-12-23 00:00:00  46.930817   CSCO\n",
              "2019-12-24 00:00:00  46.618591   CSCO\n",
              "2019-12-26 00:00:00  46.686893   CSCO\n",
              "2019-12-27 00:00:00  46.608841   CSCO\n",
              "2019-12-30 00:00:00  46.433212   CSCO\n",
              "\n",
              "[2515 rows x 2 columns]"
            ]
          },
          "metadata": {
            "tags": []
          },
          "execution_count": 126
        }
      ]
    },
    {
      "cell_type": "code",
      "metadata": {
        "id": "WuuphqsS9PpJ",
        "colab_type": "code",
        "colab": {}
      },
      "source": [
        ""
      ],
      "execution_count": null,
      "outputs": []
    },
    {
      "cell_type": "markdown",
      "metadata": {
        "id": "zbU0bnyfECl8",
        "colab_type": "text"
      },
      "source": [
        "**Split data in training, dev and test set**"
      ]
    },
    {
      "cell_type": "code",
      "metadata": {
        "id": "Bm8v_x389P2h",
        "colab_type": "code",
        "colab": {}
      },
      "source": [
        "def split_data(ticker_stock_data):\n",
        "      # ticker_stock_data.index= ticker_stock_data['Date']\n",
        "      trainset=ticker_stock_data.loc['2010-01-01':'2016-01-01'][['Adj Close']]\n",
        "      devset=ticker_stock_data.loc['2016-01-01':'2019-01-01'][['Adj Close']]\n",
        "      testset= ticker_stock_data.loc['2019-01-01': '2020-01-01'][['Adj Close']]\n",
        "      ticker_name= ticker_stock_data['Ticker'][0]\n",
        "      train_dev= trainset.append(devset)\n",
        "      num_train= trainset.shape[0]; num_test= testset.shape[0]; num_dev= devset.shape[0]; num_train_dev= train_dev.shape[0]\n",
        "      parameters= {'ticker_stock_data':ticker_stock_data,'trainset':trainset,'testset':testset, 'devset':devset,'train_dev':train_dev,'num_train':num_train, 'num_test':num_test,'num_dev':num_dev, 'num_train_dev':num_train_dev,'ticker_name':ticker_name}\n",
        "      return parameters"
      ],
      "execution_count": 149,
      "outputs": []
    },
    {
      "cell_type": "code",
      "metadata": {
        "id": "mbqqtfJs9P-u",
        "colab_type": "code",
        "colab": {}
      },
      "source": [
        "def get_x_y(data, N, offset):\n",
        "    x, y = [], []\n",
        "    for i in range(offset, len(data)):\n",
        "        x.append(data[i-N:i])\n",
        "        y.append(data[i])\n",
        "    x = np.array(x)\n",
        "    y = np.array(y)\n",
        "    return x, y"
      ],
      "execution_count": 150,
      "outputs": []
    },
    {
      "cell_type": "markdown",
      "metadata": {
        "id": "PCoXZ7mMELcZ",
        "colab_type": "text"
      },
      "source": [
        "**Execute LSTM Model**"
      ]
    },
    {
      "cell_type": "code",
      "metadata": {
        "id": "2OCT5kMD2Kqd",
        "colab_type": "code",
        "colab": {}
      },
      "source": [
        "def execute_lstm_model(parameters):\n",
        "\n",
        "  N_opt=41; lstm_units_opt=50; dropout_prob_opt=1; \n",
        "  epoch_opt=1; batch_size_opt=1; optimizer_opt='adam'\n",
        "  trainset=parameters['trainset']; ticker_stock_data= parameters['ticker_stock_data']; train_dev= parameters['train_dev']\n",
        "  num_train= parameters['num_train']; num_dev= parameters['num_dev']\n",
        "  scaler= MinMaxScaler(feature_range=(0,1))\n",
        "\n",
        "  train_dev_scaled= scaler.fit_transform(np.array(train_dev['Adj Close']).reshape(-1,1))\n",
        "  x_train_dev, y_train_dev= get_x_y(train_dev_scaled, N_opt, N_opt)\n",
        "  test_scaled  = scaler.transform(np.array(ticker_stock_data['Adj Close']).reshape(-1,1))\n",
        "  x_test, y_test = get_x_y(test_scaled, N_opt, num_train+num_dev)\n",
        "  rmse, prediction_list = train_test_lstm_model(x_train_dev, y_train_dev, x_test, y_test, scaler, lstm_units_opt, dropout_prob_opt, optimizer_opt, \n",
        "        epoch_opt, batch_size_opt)\n",
        "  print(\"RMSE on test set = %0.3f\" % rmse)\n",
        "  return prediction_list\n"
      ],
      "execution_count": 137,
      "outputs": []
    },
    {
      "cell_type": "markdown",
      "metadata": {
        "id": "nzDIUZlIEUDb",
        "colab_type": "text"
      },
      "source": [
        "**LSTM Model**"
      ]
    },
    {
      "cell_type": "code",
      "metadata": {
        "id": "BDA07mhrBlZk",
        "colab_type": "code",
        "colab": {}
      },
      "source": [
        "def train_test_lstm_model(x_train_scaled,y_train_scaled,x_dev_scaled,y_dev_scaled,scaler, lstm_units_opt,dropout_prob_opt,optimizer_opt,epoch_opt,batch_size_opt):\n",
        "  model= Sequential()\n",
        "  model.add(LSTM(units=lstm_units_opt,return_sequences=True,input_shape=(x_train_scaled.shape[1],1)))\n",
        "  model.add(Dropout(dropout_prob_opt))\n",
        "  model.add(LSTM(units=lstm_units_opt))\n",
        "  model.add(Dropout(dropout_prob_opt))\n",
        "  model.add(Dense(1))\n",
        "  model.compile(loss='mean_squared_error', optimizer=optimizer_opt)\n",
        "  model.fit(x_train_scaled, y_train_scaled, epochs=epoch_opt, batch_size=batch_size_opt, verbose=0)\n",
        "  forecast=model.predict(x_dev_scaled)\n",
        "  forecast_inv=scaler.inverse_transform(forecast)\n",
        "  y_dev = scaler.inverse_transform(y_dev_scaled)\n",
        "  rmse = math.sqrt(mean_squared_error(y_dev, forecast_inv))\n",
        "\n",
        "  return rmse, forecast_inv"
      ],
      "execution_count": 138,
      "outputs": []
    },
    {
      "cell_type": "markdown",
      "metadata": {
        "id": "ITXlnCLlD7GY",
        "colab_type": "text"
      },
      "source": [
        "**Loop over all 30 stocks in Dow Jones**"
      ]
    },
    {
      "cell_type": "code",
      "metadata": {
        "id": "tGlnCnaG9Pvs",
        "colab_type": "code",
        "colab": {
          "base_uri": "https://localhost:8080/",
          "height": 238
        },
        "outputId": "1d4d62ce-2eec-4e2b-d662-4dd48ef0711b"
      },
      "source": [
        "selected_companies= ['MMM','AXP']\n",
        "dow_predictions= pd.DataFrame(index=testset.index)\n",
        "for ticker in selected_companies:\n",
        "  ticker_data= dow_data[dow_data['Ticker']==ticker]\n",
        "  parameters= split_data(ticker_data)\n",
        "  prediction_list=execute_lstm_model(parameters)\n",
        "  dow_predictions[ticker+'_Pred'] = prediction_list\n",
        "  # dow_predictions[ticker+'_True'] = testset['Adj Close']\n",
        "\n",
        "end_price=dow_predictions.iloc[-1]\n",
        "start_price=dow_predictions.iloc[0]\n",
        "returns_annual=(end_price-start_price)/start_price\n",
        "returns_daily = dow_predictions.pct_change()\n",
        "cov_daily = returns_daily.cov()\n",
        "cov_annual = cov_daily * 251\n",
        "\n",
        "num_assets = len(selected_companies)\n",
        "num_portfolios = 50000\n",
        "stocks_returns = []\n",
        "stocks_volatility = []\n",
        "stocks_weights = []\n",
        "sharpe_ratio = []\n",
        "\n",
        "for single_portfolio in range(num_portfolios):\n",
        "    weights = np.random.random(num_assets)\n",
        "    weights /= np.sum(weights)\n",
        "    returns = np.dot(weights, returns_annual)\n",
        "    volatility = np.sqrt(np.dot(weights.T, np.dot(cov_annual, weights)))\n",
        "    sharpe = returns / volatility\n",
        "    sharpe_ratio.append(sharpe)\n",
        "    stocks_returns.append(returns)\n",
        "    stocks_volatility.append(volatility)\n",
        "    stocks_weights.append(weights)\n",
        "\n",
        "portfolio = {'Returns': stocks_returns,'Volatility': stocks_volatility, 'Sharpe_Ratio': sharpe_ratio}\n",
        "for i,symbol in enumerate(selected_companies):\n",
        "  portfolio[symbol+'_Weight'] = [weights[i] for weights in stocks_weights]\n",
        "\n",
        "portfolio=pd.DataFrame(portfolio)\n",
        "portfolio.head()"
      ],
      "execution_count": 163,
      "outputs": [
        {
          "output_type": "stream",
          "text": [
            "RMSE on test set = 5.499\n",
            "RMSE on test set = 1.830\n"
          ],
          "name": "stdout"
        },
        {
          "output_type": "execute_result",
          "data": {
            "text/html": [
              "<div>\n",
              "<style scoped>\n",
              "    .dataframe tbody tr th:only-of-type {\n",
              "        vertical-align: middle;\n",
              "    }\n",
              "\n",
              "    .dataframe tbody tr th {\n",
              "        vertical-align: top;\n",
              "    }\n",
              "\n",
              "    .dataframe thead th {\n",
              "        text-align: right;\n",
              "    }\n",
              "</style>\n",
              "<table border=\"1\" class=\"dataframe\">\n",
              "  <thead>\n",
              "    <tr style=\"text-align: right;\">\n",
              "      <th></th>\n",
              "      <th>Returns</th>\n",
              "      <th>Volatility</th>\n",
              "      <th>Sharpe_Ratio</th>\n",
              "      <th>MMM_Weight</th>\n",
              "      <th>AXP_Weight</th>\n",
              "    </tr>\n",
              "  </thead>\n",
              "  <tbody>\n",
              "    <tr>\n",
              "      <th>0</th>\n",
              "      <td>0.073474</td>\n",
              "      <td>0.068819</td>\n",
              "      <td>1.067634</td>\n",
              "      <td>0.703131</td>\n",
              "      <td>0.296869</td>\n",
              "    </tr>\n",
              "    <tr>\n",
              "      <th>1</th>\n",
              "      <td>0.155952</td>\n",
              "      <td>0.057082</td>\n",
              "      <td>2.732058</td>\n",
              "      <td>0.481242</td>\n",
              "      <td>0.518758</td>\n",
              "    </tr>\n",
              "    <tr>\n",
              "      <th>2</th>\n",
              "      <td>0.188314</td>\n",
              "      <td>0.053942</td>\n",
              "      <td>3.491034</td>\n",
              "      <td>0.394177</td>\n",
              "      <td>0.605823</td>\n",
              "    </tr>\n",
              "    <tr>\n",
              "      <th>3</th>\n",
              "      <td>0.311191</td>\n",
              "      <td>0.052659</td>\n",
              "      <td>5.909593</td>\n",
              "      <td>0.063602</td>\n",
              "      <td>0.936398</td>\n",
              "    </tr>\n",
              "    <tr>\n",
              "      <th>4</th>\n",
              "      <td>0.280057</td>\n",
              "      <td>0.051282</td>\n",
              "      <td>5.461079</td>\n",
              "      <td>0.147360</td>\n",
              "      <td>0.852640</td>\n",
              "    </tr>\n",
              "  </tbody>\n",
              "</table>\n",
              "</div>"
            ],
            "text/plain": [
              "    Returns  Volatility  Sharpe_Ratio  MMM_Weight  AXP_Weight\n",
              "0  0.073474    0.068819      1.067634    0.703131    0.296869\n",
              "1  0.155952    0.057082      2.732058    0.481242    0.518758\n",
              "2  0.188314    0.053942      3.491034    0.394177    0.605823\n",
              "3  0.311191    0.052659      5.909593    0.063602    0.936398\n",
              "4  0.280057    0.051282      5.461079    0.147360    0.852640"
            ]
          },
          "metadata": {
            "tags": []
          },
          "execution_count": 163
        }
      ]
    },
    {
      "cell_type": "code",
      "metadata": {
        "id": "2nu7la-AZyxq",
        "colab_type": "code",
        "colab": {
          "base_uri": "https://localhost:8080/",
          "height": 481
        },
        "outputId": "c2411865-008a-4ebd-ac87-350ba61a959e"
      },
      "source": [
        "import matplotlib.pyplot as plt\n",
        "\n",
        "plt.style.use('seaborn-dark')\n",
        "portfolio.plot.scatter(x='Volatility', y='Returns', c='Sharpe_Ratio',\n",
        "                cmap='RdPu_r', edgecolors='black', figsize=(10, 8), grid=True)\n",
        "plt.xlabel('Volatility (Std. Deviation)')\n",
        "plt.ylabel('Expected Returns')\n",
        "plt.title('Efficient Frontier')\n",
        "plt.show()"
      ],
      "execution_count": 164,
      "outputs": [
        {
          "output_type": "display_data",
          "data": {
            "image/png": "[encoded data removed]",
            "text/plain": [
              "<Figure size 720x576 with 2 Axes>"
            ]
          },
          "metadata": {
            "tags": []
          }
        }
      ]
    },
    {
      "cell_type": "code",
      "metadata": {
        "id": "-zoTS_xsZy1d",
        "colab_type": "code",
        "colab": {}
      },
      "source": [
        "min_volatility=portfolio['Volatility'].min()\n",
        "max_sharpe_ratio= portfolio['Sharpe_Ratio'].max()\n",
        "print('min_volatility',round(min_volatility,2), '\\nmax_sharpe_ratio',round(max_sharpe_ratio,2))\n",
        "\n",
        "sharpe_portfolio = portfolio.loc[portfolio['Sharpe_Ratio'] == max_sharpe]\n",
        "min_variance_port = portfolio.loc[portfolio['Volatility'] == min_volatility]\n",
        "print('sharpe_portfolio',sharpe_portfolio, '\\nmin_variance_port',min_variance_port)"
      ],
      "execution_count": null,
      "outputs": []
    }
  ]
}